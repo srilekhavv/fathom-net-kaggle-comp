{
  "cells": [
    {
      "cell_type": "code",
      "execution_count": 1,
      "metadata": {},
      "outputs": [
        {
          "name": "stdout",
          "output_type": "stream",
          "text": [
            "\u001b[0m\u001b[01;32mdataset_config.ipynb\u001b[0m*         \u001b[01;32mdataset_test.json\u001b[0m*   \u001b[01;32mdownload.py\u001b[0m*\n",
            "\u001b[01;32mdataset_config.ipynb.amltmp\u001b[0m*  \u001b[01;32mdataset_train.json\u001b[0m*  \u001b[01;32mrequirements.txt\u001b[0m*\n"
          ]
        }
      ],
      "source": [
        "%ls"
      ]
    },
    {
      "cell_type": "code",
      "execution_count": 2,
      "metadata": {},
      "outputs": [
        {
          "name": "stdout",
          "output_type": "stream",
          "text": [
            "Requirement already satisfied: httpx in /anaconda/envs/azureml_py38/lib/python3.10/site-packages (from -r requirements.txt (line 1)) (0.28.1)\n",
            "Requirement already satisfied: pillow in /anaconda/envs/azureml_py38/lib/python3.10/site-packages (from -r requirements.txt (line 2)) (9.2.0)\n",
            "Collecting coco-lib\n",
            "  Downloading coco_lib-0.1.4-py3-none-any.whl (5.5 kB)\n",
            "Requirement already satisfied: tqdm in /anaconda/envs/azureml_py38/lib/python3.10/site-packages (from -r requirements.txt (line 4)) (4.67.1)\n",
            "Requirement already satisfied: anyio in /anaconda/envs/azureml_py38/lib/python3.10/site-packages (from httpx->-r requirements.txt (line 1)) (4.9.0)\n",
            "Requirement already satisfied: certifi in /anaconda/envs/azureml_py38/lib/python3.10/site-packages (from httpx->-r requirements.txt (line 1)) (2025.1.31)\n",
            "Requirement already satisfied: httpcore==1.* in /anaconda/envs/azureml_py38/lib/python3.10/site-packages (from httpx->-r requirements.txt (line 1)) (1.0.8)\n",
            "Requirement already satisfied: idna in /anaconda/envs/azureml_py38/lib/python3.10/site-packages (from httpx->-r requirements.txt (line 1)) (3.10)\n",
            "Requirement already satisfied: h11<0.15,>=0.13 in /anaconda/envs/azureml_py38/lib/python3.10/site-packages (from httpcore==1.*->httpx->-r requirements.txt (line 1)) (0.14.0)\n",
            "Collecting dataclasses-json<0.6.0,>=0.5.4\n",
            "  Downloading dataclasses_json-0.5.14-py3-none-any.whl (26 kB)\n",
            "Collecting typing-inspect<1,>=0.4.0\n",
            "  Downloading typing_inspect-0.9.0-py3-none-any.whl (8.8 kB)\n",
            "Collecting marshmallow<4.0.0,>=3.18.0\n",
            "  Downloading marshmallow-3.26.1-py3-none-any.whl (50 kB)\n",
            "\u001b[2K     \u001b[90m━━━━━━━━━━━━━━━━━━━━━━━━━━━━━━━━━━━━━━━━\u001b[0m \u001b[32m50.9/50.9 kB\u001b[0m \u001b[31m7.3 MB/s\u001b[0m eta \u001b[36m0:00:00\u001b[0m\n",
            "\u001b[?25hRequirement already satisfied: typing_extensions>=4.5 in /anaconda/envs/azureml_py38/lib/python3.10/site-packages (from anyio->httpx->-r requirements.txt (line 1)) (4.13.2)\n",
            "Requirement already satisfied: exceptiongroup>=1.0.2 in /anaconda/envs/azureml_py38/lib/python3.10/site-packages (from anyio->httpx->-r requirements.txt (line 1)) (1.2.2)\n",
            "Requirement already satisfied: sniffio>=1.1 in /anaconda/envs/azureml_py38/lib/python3.10/site-packages (from anyio->httpx->-r requirements.txt (line 1)) (1.3.1)\n",
            "Requirement already satisfied: packaging>=17.0 in /anaconda/envs/azureml_py38/lib/python3.10/site-packages (from marshmallow<4.0.0,>=3.18.0->dataclasses-json<0.6.0,>=0.5.4->coco-lib->-r requirements.txt (line 3)) (25.0)\n",
            "Collecting mypy-extensions>=0.3.0\n",
            "  Downloading mypy_extensions-1.1.0-py3-none-any.whl (5.0 kB)\n",
            "Installing collected packages: mypy-extensions, marshmallow, typing-inspect, dataclasses-json, coco-lib\n",
            "Successfully installed coco-lib-0.1.4 dataclasses-json-0.5.14 marshmallow-3.26.1 mypy-extensions-1.1.0 typing-inspect-0.9.0\n"
          ]
        }
      ],
      "source": [
        "!pip install -r requirements.txt"
      ]
    },
    {
      "cell_type": "code",
      "execution_count": 15,
      "metadata": {},
      "outputs": [
        {
          "name": "stdout",
          "output_type": "stream",
          "text": [
            "Downloading images: 100%|██████████████████| 8981/8981 [00:42<00:00, 211.08it/s]\n",
            "Processing annotations: 100%|█████████████| 23699/23699 [42:23<00:00,  9.32it/s]\n",
            "Saved dataset to /mnt/batch/tasks/shared/LS_root/mounts/clusters/fathom-kaggle-comp/code/Users/vutukurusrilekha/fathom-net-kaggle-comp/dataset/train\n"
          ]
        }
      ],
      "source": [
        "!python download.py dataset_train.json train/\n",
        "# !python download.py dataset_test.json test/\n",
        "# %ls"
      ]
    },
    {
      "cell_type": "code",
      "execution_count": 4,
      "metadata": {},
      "outputs": [
        {
          "name": "stdout",
          "output_type": "stream",
          "text": [
            "/anaconda/envs/azureml_py38/lib/python3.10/site-packages/dataclasses_json/core.py:187: RuntimeWarning: 'NoneType' object value of non-optional type category_id detected when decoding ObjectDetectionAnnotation.\n",
            "  warnings.warn(\n",
            "Downloading images: 100%|█████████████████████| 325/325 [00:52<00:00,  6.24it/s]\n",
            "Processing annotations: 100%|█████████████████| 788/788 [01:14<00:00, 10.59it/s]\n",
            "Saved dataset to /mnt/batch/tasks/shared/LS_root/mounts/clusters/fathom-kaggle-comp/code/Users/vutukurusrilekha/fathom-net-kaggle-comp/dataset/test\n"
          ]
        }
      ],
      "source": [
        "!python download.py dataset_test.json test/"
      ]
    }
  ],
  "metadata": {
    "kernel_info": {
      "name": "python310-sdkv2"
    },
    "kernelspec": {
      "display_name": ".venv",
      "language": "python",
      "name": "python3"
    },
    "language_info": {
      "codemirror_mode": {
        "name": "ipython",
        "version": 3
      },
      "file_extension": ".py",
      "mimetype": "text/x-python",
      "name": "python",
      "nbconvert_exporter": "python",
      "pygments_lexer": "ipython3",
      "version": "3.10.12"
    },
    "microsoft": {
      "ms_spell_check": {
        "ms_spell_check_language": "en"
      }
    },
    "nteract": {
      "version": "nteract-front-end@1.0.0"
    }
  },
  "nbformat": 4,
  "nbformat_minor": 2
}
